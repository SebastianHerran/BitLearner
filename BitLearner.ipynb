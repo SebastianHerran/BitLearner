{
 "cells": [
  {
   "cell_type": "code",
   "execution_count": 2,
   "id": "c3be329d-78be-4c45-85ae-68ddb5487d18",
   "metadata": {},
   "outputs": [],
   "source": [
    "import pandas as pd\n",
    "import pandas as pd\n",
    "import numpy as np\n",
    "import seaborn as sns\n",
    "from keras.models import Sequential\n",
    "from keras.layers import Dense, Dropout, LSTM\n",
    "from tensorflow.keras.optimizers import RMSprop\n",
    "from sklearn.model_selection import train_test_split\n",
    "import matplotlib.pyplot as plt\n",
    "from sklearn.metrics import r2_score\n",
    "from sklearn.preprocessing import StandardScaler\n",
    "import matplotlib.pyplot as plt\n",
    "from datetime import datetime\n",
    "from sklearn.preprocessing import MinMaxScaler"
   ]
  },
  {
   "cell_type": "markdown",
   "id": "582b109f-e3ed-49c6-82ba-83d26c5a411a",
   "metadata": {},
   "source": [
    "### Loading Clean Data"
   ]
  },
  {
   "cell_type": "code",
   "execution_count": 3,
   "id": "11bc9035-5803-4430-9a8e-6ddd96426a15",
   "metadata": {},
   "outputs": [],
   "source": [
    "clean=pd.read_csv(\"Bitcoin_clean.csv\") #Se extraen los datos\n",
    "df=pd.DataFrame(clean)"
   ]
  },
  {
   "cell_type": "markdown",
   "id": "9f84bc5e-d302-4152-8ef3-95e468242f33",
   "metadata": {},
   "source": [
    "### Selecting which data to use"
   ]
  },
  {
   "cell_type": "code",
   "execution_count": 5,
   "id": "31607fe3-c8ea-41ec-8edd-8f28e5391e89",
   "metadata": {},
   "outputs": [],
   "source": [
    "df = df[2106884:2206884]\n",
    "df.reset_index(drop=True,inplace=True)"
   ]
  },
  {
   "cell_type": "code",
   "execution_count": 35,
   "id": "8e0de179-02bd-4356-9505-e379baf9c486",
   "metadata": {},
   "outputs": [
    {
     "data": {
      "text/html": [
       "<div>\n",
       "<style scoped>\n",
       "    .dataframe tbody tr th:only-of-type {\n",
       "        vertical-align: middle;\n",
       "    }\n",
       "\n",
       "    .dataframe tbody tr th {\n",
       "        vertical-align: top;\n",
       "    }\n",
       "\n",
       "    .dataframe thead th {\n",
       "        text-align: right;\n",
       "    }\n",
       "</style>\n",
       "<table border=\"1\" class=\"dataframe\">\n",
       "  <thead>\n",
       "    <tr style=\"text-align: right;\">\n",
       "      <th></th>\n",
       "      <th>Timestamp</th>\n",
       "      <th>Open</th>\n",
       "      <th>High</th>\n",
       "      <th>Low</th>\n",
       "      <th>Close</th>\n",
       "      <th>Volume_(BTC)</th>\n",
       "      <th>Volume_(Currency)</th>\n",
       "      <th>Weighted_Price</th>\n",
       "    </tr>\n",
       "  </thead>\n",
       "  <tbody>\n",
       "    <tr>\n",
       "      <th>0</th>\n",
       "      <td>0.00000</td>\n",
       "      <td>0.556979</td>\n",
       "      <td>0.555712</td>\n",
       "      <td>0.556910</td>\n",
       "      <td>0.556643</td>\n",
       "      <td>0.002875</td>\n",
       "      <td>0.002779</td>\n",
       "      <td>0.556818</td>\n",
       "    </tr>\n",
       "    <tr>\n",
       "      <th>1</th>\n",
       "      <td>0.00001</td>\n",
       "      <td>0.556640</td>\n",
       "      <td>0.555373</td>\n",
       "      <td>0.555766</td>\n",
       "      <td>0.555747</td>\n",
       "      <td>0.002407</td>\n",
       "      <td>0.002326</td>\n",
       "      <td>0.556278</td>\n",
       "    </tr>\n",
       "    <tr>\n",
       "      <th>2</th>\n",
       "      <td>0.00002</td>\n",
       "      <td>0.554502</td>\n",
       "      <td>0.554474</td>\n",
       "      <td>0.556211</td>\n",
       "      <td>0.555745</td>\n",
       "      <td>0.000831</td>\n",
       "      <td>0.000802</td>\n",
       "      <td>0.555898</td>\n",
       "    </tr>\n",
       "    <tr>\n",
       "      <th>3</th>\n",
       "      <td>0.00003</td>\n",
       "      <td>0.554165</td>\n",
       "      <td>0.554474</td>\n",
       "      <td>0.555656</td>\n",
       "      <td>0.555334</td>\n",
       "      <td>0.001089</td>\n",
       "      <td>0.001052</td>\n",
       "      <td>0.555318</td>\n",
       "    </tr>\n",
       "    <tr>\n",
       "      <th>4</th>\n",
       "      <td>0.00004</td>\n",
       "      <td>0.554989</td>\n",
       "      <td>0.553717</td>\n",
       "      <td>0.554774</td>\n",
       "      <td>0.554121</td>\n",
       "      <td>0.000998</td>\n",
       "      <td>0.000964</td>\n",
       "      <td>0.554732</td>\n",
       "    </tr>\n",
       "    <tr>\n",
       "      <th>...</th>\n",
       "      <td>...</td>\n",
       "      <td>...</td>\n",
       "      <td>...</td>\n",
       "      <td>...</td>\n",
       "      <td>...</td>\n",
       "      <td>...</td>\n",
       "      <td>...</td>\n",
       "      <td>...</td>\n",
       "    </tr>\n",
       "    <tr>\n",
       "      <th>99995</th>\n",
       "      <td>0.99996</td>\n",
       "      <td>0.061514</td>\n",
       "      <td>0.060858</td>\n",
       "      <td>0.063195</td>\n",
       "      <td>0.063534</td>\n",
       "      <td>0.003526</td>\n",
       "      <td>0.002544</td>\n",
       "      <td>0.063971</td>\n",
       "    </tr>\n",
       "    <tr>\n",
       "      <th>99996</th>\n",
       "      <td>0.99997</td>\n",
       "      <td>0.063530</td>\n",
       "      <td>0.060856</td>\n",
       "      <td>0.063195</td>\n",
       "      <td>0.061516</td>\n",
       "      <td>0.000150</td>\n",
       "      <td>0.000108</td>\n",
       "      <td>0.064399</td>\n",
       "    </tr>\n",
       "    <tr>\n",
       "      <th>99997</th>\n",
       "      <td>0.99998</td>\n",
       "      <td>0.063496</td>\n",
       "      <td>0.060822</td>\n",
       "      <td>0.065162</td>\n",
       "      <td>0.063484</td>\n",
       "      <td>0.000082</td>\n",
       "      <td>0.000059</td>\n",
       "      <td>0.064617</td>\n",
       "    </tr>\n",
       "    <tr>\n",
       "      <th>99998</th>\n",
       "      <td>0.99999</td>\n",
       "      <td>0.063441</td>\n",
       "      <td>0.060766</td>\n",
       "      <td>0.063223</td>\n",
       "      <td>0.061545</td>\n",
       "      <td>0.000433</td>\n",
       "      <td>0.000313</td>\n",
       "      <td>0.064258</td>\n",
       "    </tr>\n",
       "    <tr>\n",
       "      <th>99999</th>\n",
       "      <td>1.00000</td>\n",
       "      <td>0.063321</td>\n",
       "      <td>0.060646</td>\n",
       "      <td>0.064934</td>\n",
       "      <td>0.063318</td>\n",
       "      <td>0.000513</td>\n",
       "      <td>0.000370</td>\n",
       "      <td>0.064431</td>\n",
       "    </tr>\n",
       "  </tbody>\n",
       "</table>\n",
       "<p>100000 rows × 8 columns</p>\n",
       "</div>"
      ],
      "text/plain": [
       "       Timestamp      Open      High       Low     Close  Volume_(BTC)  \\\n",
       "0        0.00000  0.556979  0.555712  0.556910  0.556643      0.002875   \n",
       "1        0.00001  0.556640  0.555373  0.555766  0.555747      0.002407   \n",
       "2        0.00002  0.554502  0.554474  0.556211  0.555745      0.000831   \n",
       "3        0.00003  0.554165  0.554474  0.555656  0.555334      0.001089   \n",
       "4        0.00004  0.554989  0.553717  0.554774  0.554121      0.000998   \n",
       "...          ...       ...       ...       ...       ...           ...   \n",
       "99995    0.99996  0.061514  0.060858  0.063195  0.063534      0.003526   \n",
       "99996    0.99997  0.063530  0.060856  0.063195  0.061516      0.000150   \n",
       "99997    0.99998  0.063496  0.060822  0.065162  0.063484      0.000082   \n",
       "99998    0.99999  0.063441  0.060766  0.063223  0.061545      0.000433   \n",
       "99999    1.00000  0.063321  0.060646  0.064934  0.063318      0.000513   \n",
       "\n",
       "       Volume_(Currency)  Weighted_Price  \n",
       "0               0.002779        0.556818  \n",
       "1               0.002326        0.556278  \n",
       "2               0.000802        0.555898  \n",
       "3               0.001052        0.555318  \n",
       "4               0.000964        0.554732  \n",
       "...                  ...             ...  \n",
       "99995           0.002544        0.063971  \n",
       "99996           0.000108        0.064399  \n",
       "99997           0.000059        0.064617  \n",
       "99998           0.000313        0.064258  \n",
       "99999           0.000370        0.064431  \n",
       "\n",
       "[100000 rows x 8 columns]"
      ]
     },
     "execution_count": 35,
     "metadata": {},
     "output_type": "execute_result"
    }
   ],
   "source": [
    "scaler = MinMaxScaler()\n",
    "training_data = scaler.fit_transform(df)\n",
    "df_scaled = pd.DataFrame(training_data,columns=df.columns)\n",
    "df_scaled"
   ]
  },
  {
   "cell_type": "code",
   "execution_count": 53,
   "id": "7f6d9fec-bae2-4841-a7fc-c42657e3467e",
   "metadata": {},
   "outputs": [
    {
     "name": "stdout",
     "output_type": "stream",
     "text": [
      "(79999, 8)\n",
      "(20001, 8)\n"
     ]
    }
   ],
   "source": [
    "# We want 80% of the data to be used for training, and 20% for testing\n",
    "n_train_rows = int(df.shape[0]*.8)-1\n",
    "\n",
    "# Split into train and test sets but keep all columns\n",
    "train_pre_x = df_scaled.iloc[:n_train_rows, :]\n",
    "test_pre_x = df_scaled.iloc[n_train_rows:, :]\n",
    "train_pre_y = df.iloc[:n_train_rows, [1,4]]\n",
    "test_pre_y = df.iloc[n_train_rows:, [1,4]]\n",
    "\n",
    "# The total rows of the two datasets should equal the total amount of rows in your CSV\n",
    "print(train.shape)\n",
    "print(test.shape)"
   ]
  },
  {
   "cell_type": "markdown",
   "id": "6944515f-3e19-422a-a225-8a60866ad9a9",
   "metadata": {},
   "source": [
    "### Transforming 'y' data"
   ]
  },
  {
   "cell_type": "code",
   "execution_count": 63,
   "id": "bd68f563-7936-49ae-933e-fb05d80a88d2",
   "metadata": {},
   "outputs": [],
   "source": [
    "transformer_y = MinMaxScaler().fit(train_pre_y)\n",
    "y_train_scaled = transformer_y.transform(train_pre_y)\n",
    "y_test_scaled = transformer_y.transform(test_pre_y) "
   ]
  },
  {
   "cell_type": "markdown",
   "id": "95797eba-f207-401d-b356-6f6b0b54f54e",
   "metadata": {
    "tags": []
   },
   "source": [
    "### Creating final train and test"
   ]
  },
  {
   "cell_type": "code",
   "execution_count": 79,
   "id": "9f0efee1-980c-4afe-aff6-67df91ac7f58",
   "metadata": {
    "tags": []
   },
   "outputs": [
    {
     "name": "stdout",
     "output_type": "stream",
     "text": [
      "(79899, 50, 8)\n",
      "(19901, 50, 8)\n"
     ]
    }
   ],
   "source": [
    "blocks=50\n",
    "x_train = []\n",
    "x_test = []\n",
    "y_train = []\n",
    "y_test = []\n",
    "\n",
    "for i in range(blocks, train_pre_x.shape[0]-blocks):\n",
    "    \n",
    "    x_train.append(train_pre_x.to_numpy()[i-blocks:i,:])\n",
    "    y_train.append(y_train_scaled[i,:])\n",
    "                   \n",
    "for i in range(blocks, test_pre_x.shape[0]-blocks):\n",
    "                   \n",
    "    x_test.append(test_pre_x.to_numpy()[i-blocks:i,:])\n",
    "    y_test.append(y_test_scaled[i,:])\n",
    "    \n",
    "x_train = np.array(x_train)\n",
    "x_test = np.array(x_test)\n",
    "y_test = np.array(y_test)\n",
    "y_train = np.array(y_train)\n",
    "\n",
    "print(x_train.shape)\n",
    "print(x_test.shape)"
   ]
  },
  {
   "cell_type": "code",
   "execution_count": 85,
   "id": "07f232be-9305-48a6-aa7a-09fa51f8061f",
   "metadata": {},
   "outputs": [
    {
     "data": {
      "text/plain": [
       "(19901, 2)"
      ]
     },
     "execution_count": 85,
     "metadata": {},
     "output_type": "execute_result"
    }
   ],
   "source": [
    "y_test.shape"
   ]
  },
  {
   "cell_type": "code",
   "execution_count": 97,
   "id": "f58279d9-df27-49af-9d14-caaf6d31a7ea",
   "metadata": {},
   "outputs": [],
   "source": [
    "model = Sequential()\n",
    "model.add(LSTM(16, input_shape=(x_train.shape[1],x_train.shape[2]))) # Input Layer\n",
    "model.add(Dropout(0.1))\n",
    "model.add(Dense(2))                    # Output Layer"
   ]
  },
  {
   "cell_type": "code",
   "execution_count": 98,
   "id": "ade7870f-2b7d-4848-b36e-88e62115311e",
   "metadata": {},
   "outputs": [
    {
     "name": "stdout",
     "output_type": "stream",
     "text": [
      "Model: \"sequential_5\"\n",
      "_________________________________________________________________\n",
      " Layer (type)                Output Shape              Param #   \n",
      "=================================================================\n",
      " lstm_5 (LSTM)               (None, 16)                1600      \n",
      "                                                                 \n",
      " dropout_5 (Dropout)         (None, 16)                0         \n",
      "                                                                 \n",
      " dense_5 (Dense)             (None, 2)                 34        \n",
      "                                                                 \n",
      "=================================================================\n",
      "Total params: 1,634\n",
      "Trainable params: 1,634\n",
      "Non-trainable params: 0\n",
      "_________________________________________________________________\n",
      "Epoch 1/5\n",
      "1249/1249 [==============================] - 9s 7ms/step - loss: 0.0064 - val_loss: 0.0040\n",
      "Epoch 2/5\n",
      "1249/1249 [==============================] - 8s 6ms/step - loss: 0.0018 - val_loss: 0.0018\n",
      "Epoch 3/5\n",
      "1249/1249 [==============================] - 8s 7ms/step - loss: 7.5811e-04 - val_loss: 0.0014\n",
      "Epoch 4/5\n",
      "1249/1249 [==============================] - 8s 7ms/step - loss: 5.8849e-04 - val_loss: 0.0024\n",
      "Epoch 5/5\n",
      "1249/1249 [==============================] - 8s 7ms/step - loss: 5.2931e-04 - val_loss: 0.0011\n"
     ]
    }
   ],
   "source": [
    "model.summary()\n",
    "model.compile(loss='mean_squared_error',optimizer=RMSprop())\n",
    "history = model.fit(x_train, y_train,\n",
    "                    batch_size=64,\n",
    "                    epochs=5,\n",
    "                    verbose=1,\n",
    "                    validation_data = (x_test, y_test),\n",
    "                    shuffle=False)"
   ]
  },
  {
   "cell_type": "code",
   "execution_count": 99,
   "id": "145ba841-4ce2-4a62-b93c-bb448249c2a8",
   "metadata": {},
   "outputs": [
    {
     "name": "stdout",
     "output_type": "stream",
     "text": [
      "Score=  0.0011155861429870129\n"
     ]
    },
    {
     "data": {
      "image/png": "[encoded data removed]",
      "text/plain": [
       "<Figure size 432x288 with 1 Axes>"
      ]
     },
     "metadata": {
      "needs_background": "light"
     },
     "output_type": "display_data"
    }
   ],
   "source": [
    "score = model.evaluate(x_test, y_test, verbose=0)\n",
    "print('Score= ', str(score))\n",
    "\n",
    "loss = history.history['loss']\n",
    "val_loss = history.history['val_loss']\n",
    "\n",
    "epochs = range(len(loss))\n",
    "\n",
    "plt.figure()\n",
    "\n",
    "plt.plot(epochs, loss, 'b', label='Training loss')\n",
    "plt.plot(epochs, val_loss, 'r', label='Validation loss')\n",
    "plt.title(\"Training and Validation Loss\")\n",
    "plt.legend()\n",
    "\n",
    "plt.show()"
   ]
  },
  {
   "cell_type": "code",
   "execution_count": 116,
   "id": "cfc4bb2b-19d2-4b89-ad14-e9b1932f1531",
   "metadata": {
    "tags": []
   },
   "outputs": [
    {
     "data": {
      "image/png": "[encoded data removed]",
      "text/plain": [
       "<Figure size 432x288 with 1 Axes>"
      ]
     },
     "metadata": {
      "needs_background": "light"
     },
     "output_type": "display_data"
    }
   ],
   "source": [
    "pd.DataFrame(transformer_y.inverse_transform(model.predict(x_test)), columns=['Open','Volume'])['Open'].plot(color='r',label='LSTM Prediction')\n",
    "pd.DataFrame(transformer_y.inverse_transform(y_test), columns=['Open','Volume'])['Open'].plot(label='Real Price')\n",
    "plt.title(\"How good are the model's predictions?\")\n",
    "plt.legend()\n",
    "plt.xlabel('Time')\n",
    "plt.ylabel('BTC Price')\n",
    "plt.show()"
   ]
  },
  {
   "cell_type": "code",
   "execution_count": null,
   "id": "6ed7dd9d-8fbf-46c0-86f1-d10d75f849cf",
   "metadata": {},
   "outputs": [],
   "source": []
  }
 ],
 "metadata": {
  "kernelspec": {
   "display_name": "Python 3 (ipykernel)",
   "language": "python",
   "name": "python3"
  },
  "language_info": {
   "codemirror_mode": {
    "name": "ipython",
    "version": 3
   },
   "file_extension": ".py",
   "mimetype": "text/x-python",
   "name": "python",
   "nbconvert_exporter": "python",
   "pygments_lexer": "ipython3",
   "version": "3.9.7"
  }
 },
 "nbformat": 4,
 "nbformat_minor": 5
}
